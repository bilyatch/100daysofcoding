{
 "cells": [
  {
   "cell_type": "code",
   "execution_count": 61,
   "id": "41ad99e5-c4e9-46e6-a6ab-86efc332a4d0",
   "metadata": {},
   "outputs": [],
   "source": [
    "import tensorflow\n",
    "from tensorflow import keras\n",
    "from tensorflow.keras import Sequential\n",
    "from tensorflow.keras.layers import Dense,Flatten"
   ]
  },
  {
   "cell_type": "code",
   "execution_count": 62,
   "id": "41441eaf-8c73-4c5c-8361-b304a1982beb",
   "metadata": {},
   "outputs": [],
   "source": [
    "(X_train,y_train),(X_test,y_test)=keras.datasets.mnist.load_data()"
   ]
  },
  {
   "cell_type": "code",
   "execution_count": 63,
   "id": "74436de7-ece0-4094-bdc9-61e8a278beab",
   "metadata": {},
   "outputs": [
    {
     "data": {
      "text/plain": [
       "(60000, 28, 28)"
      ]
     },
     "execution_count": 63,
     "metadata": {},
     "output_type": "execute_result"
    }
   ],
   "source": [
    "X_train.shape"
   ]
  },
  {
   "cell_type": "code",
   "execution_count": 64,
   "id": "1517f01a-009d-4c75-bcea-eafdf34677a6",
   "metadata": {},
   "outputs": [
    {
     "data": {
      "text/plain": [
       "array([[  0,   0,   0,   0,   0,   0,   0,   0,   0,   0,   0,   0,   0,\n",
       "          0,   0,   0,   0,   0,   0,   0,   0,   0,   0,   0,   0,   0,\n",
       "          0,   0],\n",
       "       [  0,   0,   0,   0,   0,   0,   0,   0,   0,   0,   0,   0,   0,\n",
       "          0,   0,   0,   0,   0,   0,   0,   0,   0,   0,   0,   0,   0,\n",
       "          0,   0],\n",
       "       [  0,   0,   0,   0,   0,   0,   0,   0,   0,   0,   0,   0,   0,\n",
       "          0,   0,   0,   0,   0,   0,   0,   0,   0,   0,   0,   0,   0,\n",
       "          0,   0],\n",
       "       [  0,   0,   0,   0,   0,   0,   0,   0,   0,   0,   0,   0,   0,\n",
       "          0,   0,   0,   0,   0,   0,   0,   0,   0,   0,   0,   0,   0,\n",
       "          0,   0],\n",
       "       [  0,   0,   0,   0,   0,   0,   0,   0,   0,   0,   0,   0,   0,\n",
       "          0,   0,   0,   0,   0,   0,   0,   0,   0,   0,   0,   0,   0,\n",
       "          0,   0],\n",
       "       [  0,   0,   0,   0,   0,   0,   0,   0,   0,   0,   0,   0,   3,\n",
       "         18,  18,  18, 126, 136, 175,  26, 166, 255, 247, 127,   0,   0,\n",
       "          0,   0],\n",
       "       [  0,   0,   0,   0,   0,   0,   0,   0,  30,  36,  94, 154, 170,\n",
       "        253, 253, 253, 253, 253, 225, 172, 253, 242, 195,  64,   0,   0,\n",
       "          0,   0],\n",
       "       [  0,   0,   0,   0,   0,   0,   0,  49, 238, 253, 253, 253, 253,\n",
       "        253, 253, 253, 253, 251,  93,  82,  82,  56,  39,   0,   0,   0,\n",
       "          0,   0],\n",
       "       [  0,   0,   0,   0,   0,   0,   0,  18, 219, 253, 253, 253, 253,\n",
       "        253, 198, 182, 247, 241,   0,   0,   0,   0,   0,   0,   0,   0,\n",
       "          0,   0],\n",
       "       [  0,   0,   0,   0,   0,   0,   0,   0,  80, 156, 107, 253, 253,\n",
       "        205,  11,   0,  43, 154,   0,   0,   0,   0,   0,   0,   0,   0,\n",
       "          0,   0],\n",
       "       [  0,   0,   0,   0,   0,   0,   0,   0,   0,  14,   1, 154, 253,\n",
       "         90,   0,   0,   0,   0,   0,   0,   0,   0,   0,   0,   0,   0,\n",
       "          0,   0],\n",
       "       [  0,   0,   0,   0,   0,   0,   0,   0,   0,   0,   0, 139, 253,\n",
       "        190,   2,   0,   0,   0,   0,   0,   0,   0,   0,   0,   0,   0,\n",
       "          0,   0],\n",
       "       [  0,   0,   0,   0,   0,   0,   0,   0,   0,   0,   0,  11, 190,\n",
       "        253,  70,   0,   0,   0,   0,   0,   0,   0,   0,   0,   0,   0,\n",
       "          0,   0],\n",
       "       [  0,   0,   0,   0,   0,   0,   0,   0,   0,   0,   0,   0,  35,\n",
       "        241, 225, 160, 108,   1,   0,   0,   0,   0,   0,   0,   0,   0,\n",
       "          0,   0],\n",
       "       [  0,   0,   0,   0,   0,   0,   0,   0,   0,   0,   0,   0,   0,\n",
       "         81, 240, 253, 253, 119,  25,   0,   0,   0,   0,   0,   0,   0,\n",
       "          0,   0],\n",
       "       [  0,   0,   0,   0,   0,   0,   0,   0,   0,   0,   0,   0,   0,\n",
       "          0,  45, 186, 253, 253, 150,  27,   0,   0,   0,   0,   0,   0,\n",
       "          0,   0],\n",
       "       [  0,   0,   0,   0,   0,   0,   0,   0,   0,   0,   0,   0,   0,\n",
       "          0,   0,  16,  93, 252, 253, 187,   0,   0,   0,   0,   0,   0,\n",
       "          0,   0],\n",
       "       [  0,   0,   0,   0,   0,   0,   0,   0,   0,   0,   0,   0,   0,\n",
       "          0,   0,   0,   0, 249, 253, 249,  64,   0,   0,   0,   0,   0,\n",
       "          0,   0],\n",
       "       [  0,   0,   0,   0,   0,   0,   0,   0,   0,   0,   0,   0,   0,\n",
       "          0,  46, 130, 183, 253, 253, 207,   2,   0,   0,   0,   0,   0,\n",
       "          0,   0],\n",
       "       [  0,   0,   0,   0,   0,   0,   0,   0,   0,   0,   0,   0,  39,\n",
       "        148, 229, 253, 253, 253, 250, 182,   0,   0,   0,   0,   0,   0,\n",
       "          0,   0],\n",
       "       [  0,   0,   0,   0,   0,   0,   0,   0,   0,   0,  24, 114, 221,\n",
       "        253, 253, 253, 253, 201,  78,   0,   0,   0,   0,   0,   0,   0,\n",
       "          0,   0],\n",
       "       [  0,   0,   0,   0,   0,   0,   0,   0,  23,  66, 213, 253, 253,\n",
       "        253, 253, 198,  81,   2,   0,   0,   0,   0,   0,   0,   0,   0,\n",
       "          0,   0],\n",
       "       [  0,   0,   0,   0,   0,   0,  18, 171, 219, 253, 253, 253, 253,\n",
       "        195,  80,   9,   0,   0,   0,   0,   0,   0,   0,   0,   0,   0,\n",
       "          0,   0],\n",
       "       [  0,   0,   0,   0,  55, 172, 226, 253, 253, 253, 253, 244, 133,\n",
       "         11,   0,   0,   0,   0,   0,   0,   0,   0,   0,   0,   0,   0,\n",
       "          0,   0],\n",
       "       [  0,   0,   0,   0, 136, 253, 253, 253, 212, 135, 132,  16,   0,\n",
       "          0,   0,   0,   0,   0,   0,   0,   0,   0,   0,   0,   0,   0,\n",
       "          0,   0],\n",
       "       [  0,   0,   0,   0,   0,   0,   0,   0,   0,   0,   0,   0,   0,\n",
       "          0,   0,   0,   0,   0,   0,   0,   0,   0,   0,   0,   0,   0,\n",
       "          0,   0],\n",
       "       [  0,   0,   0,   0,   0,   0,   0,   0,   0,   0,   0,   0,   0,\n",
       "          0,   0,   0,   0,   0,   0,   0,   0,   0,   0,   0,   0,   0,\n",
       "          0,   0],\n",
       "       [  0,   0,   0,   0,   0,   0,   0,   0,   0,   0,   0,   0,   0,\n",
       "          0,   0,   0,   0,   0,   0,   0,   0,   0,   0,   0,   0,   0,\n",
       "          0,   0]], dtype=uint8)"
      ]
     },
     "execution_count": 64,
     "metadata": {},
     "output_type": "execute_result"
    }
   ],
   "source": [
    "X_train[0]"
   ]
  },
  {
   "cell_type": "code",
   "execution_count": 65,
   "id": "78360261-0a9d-4dad-980e-0f6575c5b48f",
   "metadata": {},
   "outputs": [
    {
     "data": {
      "text/plain": [
       "(10000, 28, 28)"
      ]
     },
     "execution_count": 65,
     "metadata": {},
     "output_type": "execute_result"
    }
   ],
   "source": [
    "X_test.shape"
   ]
  },
  {
   "cell_type": "code",
   "execution_count": 66,
   "id": "0650d897-0b2c-4af5-ab63-1715b0b0546c",
   "metadata": {},
   "outputs": [
    {
     "data": {
      "text/plain": [
       "array([5, 0, 4, ..., 5, 6, 8], dtype=uint8)"
      ]
     },
     "execution_count": 66,
     "metadata": {},
     "output_type": "execute_result"
    }
   ],
   "source": [
    "y_train"
   ]
  },
  {
   "cell_type": "code",
   "execution_count": 67,
   "id": "307e2c4e-aa61-4428-97ad-d2664865fd44",
   "metadata": {},
   "outputs": [
    {
     "data": {
      "text/plain": [
       "array([7, 2, 1, ..., 4, 5, 6], dtype=uint8)"
      ]
     },
     "execution_count": 67,
     "metadata": {},
     "output_type": "execute_result"
    }
   ],
   "source": [
    "y_test"
   ]
  },
  {
   "cell_type": "code",
   "execution_count": 68,
   "id": "d2902354-3520-421a-8864-eb5e2978d04c",
   "metadata": {},
   "outputs": [],
   "source": [
    "import matplotlib.pyplot as plt"
   ]
  },
  {
   "cell_type": "code",
   "execution_count": 69,
   "id": "9effd42a-86ca-4991-9cd1-a92f799c36cd",
   "metadata": {},
   "outputs": [
    {
     "data": {
      "text/plain": [
       "<matplotlib.image.AxesImage at 0x19a5d931150>"
      ]
     },
     "execution_count": 69,
     "metadata": {},
     "output_type": "execute_result"
    },
    {
     "data": {
      "image/png": "[encoded data removed]",
      "text/plain": [
       "<Figure size 640x480 with 1 Axes>"
      ]
     },
     "metadata": {},
     "output_type": "display_data"
    }
   ],
   "source": [
    "plt.imshow(X_train[0])"
   ]
  },
  {
   "cell_type": "code",
   "execution_count": 70,
   "id": "1e2c2d7b-1b81-45f2-8357-e28da775fc11",
   "metadata": {},
   "outputs": [
    {
     "data": {
      "text/plain": [
       "<matplotlib.image.AxesImage at 0x19a1bbd3d90>"
      ]
     },
     "execution_count": 70,
     "metadata": {},
     "output_type": "execute_result"
    },
    {
     "data": {
      "image/png": "[encoded data removed]",
      "text/plain": [
       "<Figure size 640x480 with 1 Axes>"
      ]
     },
     "metadata": {},
     "output_type": "display_data"
    }
   ],
   "source": [
    "plt.imshow(X_train[1])"
   ]
  },
  {
   "cell_type": "code",
   "execution_count": 71,
   "id": "da745868-4988-4258-903b-71250e69b7c7",
   "metadata": {},
   "outputs": [],
   "source": [
    "X_train= X_train/255\n",
    "X_test= X_test/255"
   ]
  },
  {
   "cell_type": "code",
   "execution_count": 72,
   "id": "884522b9-291d-408c-aa3d-9f780edbf9ed",
   "metadata": {},
   "outputs": [],
   "source": [
    "#more the value are in the similar range it converges fast and gives the result fast\n",
    "#to make the program faster we divide X_test,X_train by 255 which will bring the pixel value in between 0 and 1"
   ]
  },
  {
   "cell_type": "code",
   "execution_count": 73,
   "id": "96d4a795-e4d2-45ae-a231-2a296b0e5ee6",
   "metadata": {},
   "outputs": [],
   "source": [
    "#now we start to make a neural network"
   ]
  },
  {
   "cell_type": "code",
   "execution_count": 74,
   "id": "d723f6a9-4d94-44cf-9130-0633db683446",
   "metadata": {},
   "outputs": [],
   "source": [
    "model = Sequential()\n",
    "model.add(Flatten(input_shape=(28,28)))\n",
    "model.add(Dense(128,activation='relu'))\n",
    "model.add(Dense(32,activation='relu'))\n",
    "model.add(Dense(10,activation='softmax'))"
   ]
  },
  {
   "cell_type": "code",
   "execution_count": 75,
   "id": "f05de81c-3d28-4b39-a4d5-899ff4b68555",
   "metadata": {},
   "outputs": [
    {
     "name": "stdout",
     "output_type": "stream",
     "text": [
      "Model: \"sequential_4\"\n",
      "_________________________________________________________________\n",
      " Layer (type)                Output Shape              Param #   \n",
      "=================================================================\n",
      " flatten_3 (Flatten)         (None, 784)               0         \n",
      "                                                                 \n",
      " dense_5 (Dense)             (None, 128)               100480    \n",
      "                                                                 \n",
      " dense_6 (Dense)             (None, 32)                4128      \n",
      "                                                                 \n",
      " dense_7 (Dense)             (None, 10)                330       \n",
      "                                                                 \n",
      "=================================================================\n",
      "Total params: 104938 (409.91 KB)\n",
      "Trainable params: 104938 (409.91 KB)\n",
      "Non-trainable params: 0 (0.00 Byte)\n",
      "_________________________________________________________________\n"
     ]
    }
   ],
   "source": [
    "model.summary()"
   ]
  },
  {
   "cell_type": "code",
   "execution_count": 76,
   "id": "0f14a39a-32f7-4c4d-9a11-fdb796bf97b9",
   "metadata": {},
   "outputs": [
    {
     "data": {
      "text/plain": [
       "100480"
      ]
     },
     "execution_count": 76,
     "metadata": {},
     "output_type": "execute_result"
    }
   ],
   "source": [
    "128*784+128"
   ]
  },
  {
   "cell_type": "code",
   "execution_count": 77,
   "id": "0bc552ed-f75e-43a6-ad08-c08df7d262d9",
   "metadata": {},
   "outputs": [
    {
     "data": {
      "text/plain": [
       "1290"
      ]
     },
     "execution_count": 77,
     "metadata": {},
     "output_type": "execute_result"
    }
   ],
   "source": [
    "10*128+10"
   ]
  },
  {
   "cell_type": "code",
   "execution_count": 78,
   "id": "598683f1-5dbb-43a3-8f66-59146c1b1de6",
   "metadata": {},
   "outputs": [],
   "source": [
    "model.compile(loss='sparse_categorical_crossentropy',optimizer='Adam',metrics=['accuracy'])"
   ]
  },
  {
   "cell_type": "code",
   "execution_count": 79,
   "id": "ec6911aa-221f-42db-bf52-d1355ecf1e0f",
   "metadata": {},
   "outputs": [
    {
     "name": "stdout",
     "output_type": "stream",
     "text": [
      "Epoch 1/25\n",
      "1500/1500 [==============================] - 8s 5ms/step - loss: 0.2835 - accuracy: 0.9166 - val_loss: 0.1453 - val_accuracy: 0.9571\n",
      "Epoch 2/25\n",
      "1500/1500 [==============================] - 7s 5ms/step - loss: 0.1192 - accuracy: 0.9639 - val_loss: 0.1186 - val_accuracy: 0.9641\n",
      "Epoch 3/25\n",
      "1500/1500 [==============================] - 7s 5ms/step - loss: 0.0791 - accuracy: 0.9755 - val_loss: 0.1031 - val_accuracy: 0.9701\n",
      "Epoch 4/25\n",
      "1500/1500 [==============================] - 10s 6ms/step - loss: 0.0583 - accuracy: 0.9819 - val_loss: 0.1101 - val_accuracy: 0.9680\n",
      "Epoch 5/25\n",
      "1500/1500 [==============================] - 8s 5ms/step - loss: 0.0462 - accuracy: 0.9848 - val_loss: 0.1053 - val_accuracy: 0.9693\n",
      "Epoch 6/25\n",
      "1500/1500 [==============================] - 7s 5ms/step - loss: 0.0371 - accuracy: 0.9882 - val_loss: 0.0876 - val_accuracy: 0.9758\n",
      "Epoch 7/25\n",
      "1500/1500 [==============================] - 7s 5ms/step - loss: 0.0291 - accuracy: 0.9904 - val_loss: 0.1049 - val_accuracy: 0.9727\n",
      "Epoch 8/25\n",
      "1500/1500 [==============================] - 7s 5ms/step - loss: 0.0262 - accuracy: 0.9917 - val_loss: 0.1334 - val_accuracy: 0.9676\n",
      "Epoch 9/25\n",
      "1500/1500 [==============================] - 8s 5ms/step - loss: 0.0204 - accuracy: 0.9934 - val_loss: 0.1025 - val_accuracy: 0.9757\n",
      "Epoch 10/25\n",
      "1500/1500 [==============================] - 8s 5ms/step - loss: 0.0204 - accuracy: 0.9930 - val_loss: 0.1071 - val_accuracy: 0.9753\n",
      "Epoch 11/25\n",
      "1500/1500 [==============================] - 7s 5ms/step - loss: 0.0155 - accuracy: 0.9948 - val_loss: 0.1167 - val_accuracy: 0.9733\n",
      "Epoch 12/25\n",
      "1500/1500 [==============================] - 7s 5ms/step - loss: 0.0161 - accuracy: 0.9949 - val_loss: 0.1162 - val_accuracy: 0.9747\n",
      "Epoch 13/25\n",
      "1500/1500 [==============================] - 7s 5ms/step - loss: 0.0107 - accuracy: 0.9964 - val_loss: 0.1228 - val_accuracy: 0.9764\n",
      "Epoch 14/25\n",
      "1500/1500 [==============================] - 7s 5ms/step - loss: 0.0155 - accuracy: 0.9943 - val_loss: 0.1376 - val_accuracy: 0.9731\n",
      "Epoch 15/25\n",
      "1500/1500 [==============================] - 8s 5ms/step - loss: 0.0136 - accuracy: 0.9956 - val_loss: 0.1348 - val_accuracy: 0.9742\n",
      "Epoch 16/25\n",
      "1500/1500 [==============================] - 8s 5ms/step - loss: 0.0097 - accuracy: 0.9967 - val_loss: 0.1353 - val_accuracy: 0.9757\n",
      "Epoch 17/25\n",
      "1500/1500 [==============================] - 7s 5ms/step - loss: 0.0110 - accuracy: 0.9965 - val_loss: 0.1282 - val_accuracy: 0.9762\n",
      "Epoch 18/25\n",
      "1500/1500 [==============================] - 8s 5ms/step - loss: 0.0098 - accuracy: 0.9966 - val_loss: 0.1399 - val_accuracy: 0.9746\n",
      "Epoch 19/25\n",
      "1500/1500 [==============================] - 7s 5ms/step - loss: 0.0081 - accuracy: 0.9974 - val_loss: 0.1492 - val_accuracy: 0.9737\n",
      "Epoch 20/25\n",
      "1500/1500 [==============================] - 7s 5ms/step - loss: 0.0091 - accuracy: 0.9972 - val_loss: 0.1528 - val_accuracy: 0.9755\n",
      "Epoch 21/25\n",
      "1500/1500 [==============================] - 8s 5ms/step - loss: 0.0088 - accuracy: 0.9973 - val_loss: 0.1539 - val_accuracy: 0.9747\n",
      "Epoch 22/25\n",
      "1500/1500 [==============================] - 7s 5ms/step - loss: 0.0108 - accuracy: 0.9965 - val_loss: 0.1593 - val_accuracy: 0.9732\n",
      "Epoch 23/25\n",
      "1500/1500 [==============================] - 7s 5ms/step - loss: 0.0073 - accuracy: 0.9976 - val_loss: 0.1430 - val_accuracy: 0.9784\n",
      "Epoch 24/25\n",
      "1500/1500 [==============================] - 8s 5ms/step - loss: 0.0068 - accuracy: 0.9977 - val_loss: 0.1787 - val_accuracy: 0.9735\n",
      "Epoch 25/25\n",
      "1500/1500 [==============================] - 8s 5ms/step - loss: 0.0107 - accuracy: 0.9966 - val_loss: 0.1895 - val_accuracy: 0.9710\n"
     ]
    }
   ],
   "source": [
    "history=model.fit(X_train,y_train,epochs=25,validation_split=0.2)"
   ]
  },
  {
   "cell_type": "code",
   "execution_count": 80,
   "id": "9ea9ac6c-d60e-4ab4-9c5e-1ab4ea5133d5",
   "metadata": {},
   "outputs": [
    {
     "name": "stdout",
     "output_type": "stream",
     "text": [
      "313/313 [==============================] - 1s 3ms/step\n"
     ]
    }
   ],
   "source": [
    "y_prob=model.predict(X_test)"
   ]
  },
  {
   "cell_type": "code",
   "execution_count": 81,
   "id": "d81a10ab-5208-445d-b57d-f53088f83689",
   "metadata": {},
   "outputs": [],
   "source": [
    "y_pred=y_prob.argmax(axis=1)"
   ]
  },
  {
   "cell_type": "code",
   "execution_count": 82,
   "id": "1fad3688-a903-4dcc-946f-be672bef1e1b",
   "metadata": {},
   "outputs": [
    {
     "data": {
      "text/plain": [
       "0.9733"
      ]
     },
     "execution_count": 82,
     "metadata": {},
     "output_type": "execute_result"
    }
   ],
   "source": [
    "from sklearn.metrics import accuracy_score\n",
    "accuracy_score(y_test,y_pred)"
   ]
  },
  {
   "cell_type": "code",
   "execution_count": 83,
   "id": "f8e94420-ed9d-46b5-be91-820781bd45a5",
   "metadata": {},
   "outputs": [
    {
     "data": {
      "text/plain": [
       "[<matplotlib.lines.Line2D at 0x19a1bd70410>]"
      ]
     },
     "execution_count": 83,
     "metadata": {},
     "output_type": "execute_result"
    },
    {
     "data": {
      "image/png": "[encoded data removed]",
      "text/plain": [
       "<Figure size 640x480 with 1 Axes>"
      ]
     },
     "metadata": {},
     "output_type": "display_data"
    }
   ],
   "source": [
    "plt.plot(history.history['loss'])\n",
    "plt.plot(history.history['val_loss'])\n",
    "         "
   ]
  },
  {
   "cell_type": "code",
   "execution_count": 85,
   "id": "f341e1de-36ee-484b-b72a-ba16a9c24d90",
   "metadata": {},
   "outputs": [
    {
     "data": {
      "text/plain": [
       "[<matplotlib.lines.Line2D at 0x19a2e08aad0>]"
      ]
     },
     "execution_count": 85,
     "metadata": {},
     "output_type": "execute_result"
    },
    {
     "data": {
      "image/png": "[encoded data removed]",
      "text/plain": [
       "<Figure size 640x480 with 1 Axes>"
      ]
     },
     "metadata": {},
     "output_type": "display_data"
    }
   ],
   "source": [
    "plt.plot(history.history['accuracy'])\n",
    "plt.plot(history.history['val_accuracy'])"
   ]
  },
  {
   "cell_type": "code",
   "execution_count": 87,
   "id": "b6a50bee-21a1-4421-9f54-fa7a7bb0c08e",
   "metadata": {
    "editable": true,
    "slideshow": {
     "slide_type": ""
    },
    "tags": []
   },
   "outputs": [
    {
     "data": {
      "text/plain": [
       "<matplotlib.image.AxesImage at 0x19a1bdbc910>"
      ]
     },
     "execution_count": 87,
     "metadata": {},
     "output_type": "execute_result"
    },
    {
     "data": {
      "image/png": "[encoded data removed]",
      "text/plain": [
       "<Figure size 640x480 with 1 Axes>"
      ]
     },
     "metadata": {},
     "output_type": "display_data"
    }
   ],
   "source": [
    "plt.imshow(X_test[0])"
   ]
  },
  {
   "cell_type": "code",
   "execution_count": 89,
   "id": "8a2de619-d1ed-4c91-9bb8-0854ac56fe1b",
   "metadata": {},
   "outputs": [
    {
     "name": "stdout",
     "output_type": "stream",
     "text": [
      "1/1 [==============================] - 0s 48ms/step\n"
     ]
    },
    {
     "data": {
      "text/plain": [
       "array([7], dtype=int64)"
      ]
     },
     "execution_count": 89,
     "metadata": {},
     "output_type": "execute_result"
    }
   ],
   "source": [
    "model.predict(X_test[0].reshape(1,28,28)).argmax(axis=1)"
   ]
  },
  {
   "cell_type": "code",
   "execution_count": null,
   "id": "c2b3f50c-c18d-4aa7-9204-5611ad1bf6da",
   "metadata": {},
   "outputs": [],
   "source": []
  }
 ],
 "metadata": {
  "kernelspec": {
   "display_name": "Python 3 (ipykernel)",
   "language": "python",
   "name": "python3"
  },
  "language_info": {
   "codemirror_mode": {
    "name": "ipython",
    "version": 3
   },
   "file_extension": ".py",
   "mimetype": "text/x-python",
   "name": "python",
   "nbconvert_exporter": "python",
   "pygments_lexer": "ipython3",
   "version": "3.11.6"
  }
 },
 "nbformat": 4,
 "nbformat_minor": 5
}
